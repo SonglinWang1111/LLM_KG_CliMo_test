{
 "cells": [
  {
   "cell_type": "code",
   "execution_count": 1,
   "id": "9b0787dc-eb11-40b8-82a7-97b41fcf942c",
   "metadata": {},
   "outputs": [],
   "source": [
    "from transformers import pipeline"
   ]
  },
  {
   "cell_type": "code",
   "execution_count": 2,
   "id": "2c50a546-d787-4c4d-8c56-9107f5bc1bf9",
   "metadata": {},
   "outputs": [
    {
     "name": "stderr",
     "output_type": "stream",
     "text": [
      "No model was supplied, defaulted to dbmdz/bert-large-cased-finetuned-conll03-english and revision 4c53496 (https://huggingface.co/dbmdz/bert-large-cased-finetuned-conll03-english).\n",
      "Using a pipeline without specifying a model name and revision in production is not recommended.\n"
     ]
    },
    {
     "name": "stdout",
     "output_type": "stream",
     "text": [
      "WARNING:tensorflow:From F:\\packages\\conda\\envs\\myGeoKG\\lib\\site-packages\\tf_keras\\src\\losses.py:2976: The name tf.losses.sparse_softmax_cross_entropy is deprecated. Please use tf.compat.v1.losses.sparse_softmax_cross_entropy instead.\n",
      "\n"
     ]
    },
    {
     "name": "stderr",
     "output_type": "stream",
     "text": [
      "Some weights of the model checkpoint at dbmdz/bert-large-cased-finetuned-conll03-english were not used when initializing BertForTokenClassification: ['bert.pooler.dense.bias', 'bert.pooler.dense.weight']\n",
      "- This IS expected if you are initializing BertForTokenClassification from the checkpoint of a model trained on another task or with another architecture (e.g. initializing a BertForSequenceClassification model from a BertForPreTraining model).\n",
      "- This IS NOT expected if you are initializing BertForTokenClassification from the checkpoint of a model that you expect to be exactly identical (initializing a BertForSequenceClassification model from a BertForSequenceClassification model).\n",
      "Device set to use cpu\n"
     ]
    }
   ],
   "source": [
    "ner = pipeline('ner', aggregation_strategy = 'simple')"
   ]
  },
  {
   "cell_type": "code",
   "execution_count": 3,
   "id": "313f24d7-0fd3-4127-a281-bec3ec63eee2",
   "metadata": {},
   "outputs": [],
   "source": [
    "import pandas as pd\n",
    "import geopandas as gpd\n",
    "import numpy as np\n",
    "import matplotlib.pyplot as plt\n",
    "\n",
    "from urllib import request\n",
    "\n",
    "import geopy.geocoders as gc\n",
    "from geopy.exc import GeocoderTimedOut\n",
    "\n",
    "from shapely.geometry import Point, Polygon"
   ]
  },
  {
   "cell_type": "code",
   "execution_count": 4,
   "id": "6ff48868-cb12-434d-b0d3-3f9a78b1b5e5",
   "metadata": {},
   "outputs": [],
   "source": [
    "gc.options.default_user_agent = \"403\"\n",
    "geolocator = gc.Nominatim(timeout=2)\n",
    "\n",
    "def myParser(paragraph):\n",
    "  entities = ner(paragraph)\n",
    "  df = pd.DataFrame(entities)\n",
    "  mylist = df['word'].tolist()\n",
    "\n",
    "  lat_lon = []\n",
    "  for word in mylist:\n",
    "      try:\n",
    "          location = geolocator.geocode(word)\n",
    "          if location:\n",
    "              lat_lon.append(location)\n",
    "      except GeocoderTimedOut as e:\n",
    "          print(\"Error: geocode failed on input %s with message %s\"%\n",
    "              (word, e))\n",
    "  return df, lat_lon"
   ]
  },
  {
   "cell_type": "code",
   "execution_count": 5,
   "id": "f475b3f9-d8eb-4f37-94a6-50e1b88709c2",
   "metadata": {},
   "outputs": [],
   "source": [
    "paragraph1 = '''Human mobility over different distances and time scales has long been associated with environmental change, and the idea of \n",
    "climate change is now affecting movement in new ways. In this paper, we discuss three cases from the South Pacific to explain the ways anticipated \n",
    "climate futures are changing mobility in the present. First, we examine village relocation in response to coastal erosion and inundation in Fiji, drawing\n",
    "on our study of the unfolding experience of Narikoso village in Kadavu Province. In contrast to this spatially constrained process of permanent \n",
    "relocation, we examine the spatially extended yet temporally constrained seasonal migrant worker programme that aims to support economic development \n",
    "in the Pacific Islands by providing temporary work visas in Australia and New Zealand. Finally, we examine the likely effects of proposed open \n",
    "labour markets as a means to promote climate change adaptation, through a study of the analogous example of Niuean migration to New Zealand which has \n",
    "resulted in both permanent migration and a slow circulation of people between both countries. Across these examples, we highlight emerging and \n",
    "potentially constructive ways in which climate change is altering the spatio-temporal patterns and rhythms of mobility.'''"
   ]
  },
  {
   "cell_type": "code",
   "execution_count": 6,
   "id": "c8e31924-f752-422e-ab97-3ce8c2d4b67a",
   "metadata": {},
   "outputs": [
    {
     "data": {
      "text/plain": [
       "(  entity_group     score             word  start   end\n",
       " 0          LOC  0.996185    South Pacific    226   239\n",
       " 1          LOC  0.999814             Fiji    413   417\n",
       " 2          LOC  0.980810         Narikoso    471   479\n",
       " 3          LOC  0.978650  Kadavu Province    491   506\n",
       " 4          LOC  0.748843  Pacific Islands    729   744\n",
       " 5          LOC  0.999851        Australia    782   791\n",
       " 6          LOC  0.999799      New Zealand    796   807\n",
       " 7         MISC  0.983564           Niuean    974   980\n",
       " 8          LOC  0.999669      New Zealand    994  1005,\n",
       " [Location(South Pacific Golf and Leisure Estate, Bago Gallera, Davao City, Davao Region, 8000, Pilipinas, (7.0654996, 125.5133981, 0.0)),\n",
       "  Location(Viti, (-18.1239696, 179.0122737, 0.0)),\n",
       "  Location(Narikoso Village, Kadavu, Eastern, Viti, (-18.9174115, 178.5069594, 0.0)),\n",
       "  Location(NOAA - Marine Operations Center Pacific Islands, 1845, Waipahu, Honolulu County, Hawaii, 96818, United States, (21.3649544, -157.9633001, 0.0)),\n",
       "  Location(Australia, (-24.7761086, 134.755, 0.0)),\n",
       "  Location(New Zealand / Aotearoa, (-41.5000831, 172.8344077, 0.0)),\n",
       "  Location(Nukutukulea Aoga Niue Inc Niuean Preschool, Naylors Drive, Māngere, Māngere-Ōtāhuhu, Auckland, 2153, New Zealand / Aotearoa, (-36.9769819, 174.7945371, 0.0)),\n",
       "  Location(New Zealand / Aotearoa, (-41.5000831, 172.8344077, 0.0))])"
      ]
     },
     "execution_count": 6,
     "metadata": {},
     "output_type": "execute_result"
    }
   ],
   "source": [
    "myParser(paragraph1)"
   ]
  },
  {
   "cell_type": "code",
   "execution_count": 7,
   "id": "750714f7-240b-4893-a108-ea425cff8ef2",
   "metadata": {},
   "outputs": [
    {
     "data": {
      "text/plain": [
       "Location(South Pacific Ocean, (-45.0, -130.0, 0.0))"
      ]
     },
     "execution_count": 7,
     "metadata": {},
     "output_type": "execute_result"
    }
   ],
   "source": [
    "geolocator.geocode(\"South Pacific Ocean\")"
   ]
  },
  {
   "cell_type": "code",
   "execution_count": 8,
   "id": "9b743ed8-9e9d-4d4e-a89c-dcced5b7a590",
   "metadata": {},
   "outputs": [
    {
     "data": {
      "text/plain": [
       "Location(Universität Zürich Irchel, 17, Unterstrass, Kreis 6, Zürich, Bezirk Zürich, Zürich, 8057, Schweiz/Suisse/Svizzera/Svizra, (47.3971752, 8.5491779, 0.0))"
      ]
     },
     "execution_count": 8,
     "metadata": {},
     "output_type": "execute_result"
    }
   ],
   "source": [
    "geolocator.geocode(\"Universität Zürich Irchel\")"
   ]
  },
  {
   "cell_type": "code",
   "execution_count": 9,
   "id": "59305d07-8836-491f-af55-18dd2b23ee9b",
   "metadata": {},
   "outputs": [
    {
     "data": {
      "text/plain": [
       "Location(Georgia, United States, (32.3293809, -83.1137366, 0.0))"
      ]
     },
     "execution_count": 9,
     "metadata": {},
     "output_type": "execute_result"
    }
   ],
   "source": [
    "geolocator.geocode(\"Georgia\")"
   ]
  },
  {
   "cell_type": "code",
   "execution_count": 10,
   "id": "e43fe724-03fc-4c0b-827d-54bf739dae89",
   "metadata": {},
   "outputs": [],
   "source": [
    "def myNER(paragraph):\n",
    "  entities = ner(paragraph)\n",
    "  df = pd.DataFrame(entities)\n",
    "  mylist = df['word'].tolist()\n",
    "\n",
    "  return mylist"
   ]
  },
  {
   "cell_type": "code",
   "execution_count": 11,
   "id": "c9851382-75c3-4558-8797-e6125e82beb7",
   "metadata": {},
   "outputs": [],
   "source": [
    "paragraph2 = '''Moving to the 00’s, Jiang and Ma (2002) [273] introduce the notion of “plan knowledge graphs” where nodes represent goals and edges \n",
    "dependencies between goals, further encoding supporting degrees that can change upon further evidence. Search algorithms are then defined on the graph\n",
    "to determine a plan for a particular goal. Helms and Buijsrogge (2005) [232] propose a knowledge graph to represent the flow of knowledge in an \n",
    "organisation, with nodes representing knowledge actors (creators, sharers, users), edges representing knowledge flow from one actor to another, and \n",
    "edge weights indicating the “velocity” (delay of flow) and “viscosity” (the depth of knowledge transferred). Graph algorithms are then proposed to find \n",
    "bottlenecks in knowledge flow. Kasneci et al. (2008) [280] propose a search engine for knowledge graphs, defined to be weighted directed edge-labelled \n",
    "graphs, where weights denote confidence scores based on the centrality of source documents from which the edge/relation was extracted. From the same \n",
    "group, Elbassuoni et al. (2009) [142] adopt a similar notion of a knowledge graph, adding edge attributes to include keywords from the source, a count of\n",
    "supporting sources, etc., showing how the graph can be queried. Coursey and Mihalcea (2009) [106] construct a knowledge graph from Wikipedia, where nodes\n",
    "represent Wikipedia articles and categories, while edges represent the proximity of nodes. Subsequently, given an input text, entity linking and \n",
    "centrality measures are applied over the knowledge graph to determine relevant Wikipedia categories for the text.'''"
   ]
  },
  {
   "cell_type": "code",
   "execution_count": 12,
   "id": "f9c86042-6908-427e-8ecf-48007ccfb413",
   "metadata": {},
   "outputs": [
    {
     "data": {
      "text/plain": [
       "['Jiang',\n",
       " 'Ma',\n",
       " 'Helms',\n",
       " 'Buijsrogge',\n",
       " 'Kasneci',\n",
       " 'Elbassuoni',\n",
       " 'Coursey',\n",
       " 'Mihalcea',\n",
       " 'Wikipedia',\n",
       " 'Wikipedia',\n",
       " 'Wikipedia']"
      ]
     },
     "execution_count": 12,
     "metadata": {},
     "output_type": "execute_result"
    }
   ],
   "source": [
    "myNER(paragraph2)"
   ]
  },
  {
   "cell_type": "code",
   "execution_count": null,
   "id": "a235e35a-96f9-438f-b592-09a382a75b72",
   "metadata": {},
   "outputs": [],
   "source": []
  }
 ],
 "metadata": {
  "kernelspec": {
   "display_name": "myGeoKG",
   "language": "python",
   "name": "mygeokg"
  },
  "language_info": {
   "codemirror_mode": {
    "name": "ipython",
    "version": 3
   },
   "file_extension": ".py",
   "mimetype": "text/x-python",
   "name": "python",
   "nbconvert_exporter": "python",
   "pygments_lexer": "ipython3",
   "version": "3.10.16"
  }
 },
 "nbformat": 4,
 "nbformat_minor": 5
}
