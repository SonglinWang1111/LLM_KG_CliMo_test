{
 "cells": [
  {
   "cell_type": "code",
   "execution_count": 10,
   "id": "a5ea64f4-a5e9-45d8-b8cf-c4c4b82df245",
   "metadata": {},
   "outputs": [],
   "source": [
    "import openai\n",
    "import numpy as np\n",
    "import os\n",
    "from typing import Dict, List\n",
    "import json\n",
    "import pandas as pd"
   ]
  },
  {
   "cell_type": "code",
   "execution_count": 2,
   "id": "b99fc48b-9e7f-45d0-8bea-6446af473fa4",
   "metadata": {},
   "outputs": [],
   "source": [
    "openai.api_key=\"\""
   ]
  },
  {
   "cell_type": "code",
   "execution_count": 12,
   "id": "e0c42213-315b-4db4-8ee0-577fae53789a",
   "metadata": {},
   "outputs": [],
   "source": [
    "literature = np.load('literature.npy', allow_pickle=True).item()\n",
    "example = np.load('example.npy', allow_pickle=True).item()"
   ]
  },
  {
   "cell_type": "code",
   "execution_count": 43,
   "id": "5db77463-e1c5-4773-9d6b-d429f942e773",
   "metadata": {},
   "outputs": [],
   "source": [
    "def get_completion(prompt, temperature_new, model='gpt-4o-mini'):\n",
    "    messages = [{\"role\": \"system\", \"content\": \"You are a research assistant and are responsible to extract structured knowledge from climate mobility literature\"},\n",
    "               {\"role\": \"user\", \"content\": prompt}]\n",
    "    response = openai.ChatCompletion.create(\n",
    "        model=model,\n",
    "        messages=messages,\n",
    "        temperature=temperature_new,\n",
    "    )\n",
    "    return response.choices[0].message.content"
   ]
  },
  {
   "cell_type": "code",
   "execution_count": 45,
   "id": "55e3aa8d-cafa-4967-9891-60d664709143",
   "metadata": {},
   "outputs": [],
   "source": [
    "EXAMPLE_PROMPT = f\"\"\"\n",
    "\n",
    "<Prof. Dr. Patrick Sakdapolrak>: Please extract information from this peer-reviewed scientific paper of climate mobility discipline: \n",
    "\\\"\\\"\\\"{example}\\\"\\\"\\\"\n",
    "according to the following instructions:\n",
    "\n",
    "First, read and understand the context carefully, especially its abstract, methods, results and conclusions. \\\n",
    "Second, summarize the paper with the following indices:\n",
    "a. Methodology used by researchers for this study, use 1 to represent qualitative data analysis, 2 for quantitative data analysis, and 3 for mixed methods.\n",
    "b. Focal group of people of the study (with different scales), 1 means it focused on individuals, 2 means it focused on households, 3 means it focused on \\\n",
    "subnations, 4 means it focused on nations, 5 means it focused on international or global scale, 6 means it considerd mixed types of groups.\n",
    "c. Research areas (Here it denotes the 'origins' of those migrants, which is also the areas being influenced by climatic events and other factors), \\\n",
    "1 is urban areas, 2 is rural areas, 3 means mixed areas.\n",
    "d. Factors influencing human mobility discussed in this paper, 1 denotes all socio-demographic-economic factors, 2 denotes environmental factors \\\n",
    "3 means both.\n",
    "e. Does the research consider time frame, 0 means no, 1 means yes, 2: means it contain the prediction or projection of the future.\n",
    "f: Does the research consider the difference between genders, 0 means no, 1 means yes.\n",
    "g: Human migration type considered in the paper, 1 means internal, while 2 means international, and 3 means both.\n",
    "h: Sample size (i.e. a follow-up of index b, means how many samples did it consider, no matter which scale it chose).\n",
    "i: Focused countries (same as c, consider the 'origins' of those migrants, which is also the areas being influenced by climatic events and other factors) \\\n",
    "Here please use string rather than numeric codes or numbers as a to h.\n",
    "\n",
    "Keep in mind that sometimes papers do have sections called 'introduction', 'state of the art', 'related works', 'motivation', or other \\\n",
    "semantically similar phrases. Be careful with these sections since the authors may introduce other research there. You should not wrongly consider \\\n",
    "those related research for summarizing these indices.\n",
    "\n",
    "Finally please make your result as a dictionary in Python. Give each entry a UUID from 0. \n",
    "\n",
    "<research assistant> OK, here is my result:\n",
    "{{\"uuid\": \"0\", \"method\": 3, \"focal_scale\": 1, \"geographic_area\": 2, \"factors\": 3, \"time_frame\": 0, \"gender\": 0, \"migration_type\": 1, \"sample_size\": 203, \"focused_countries\": \"Ghana\"}}\n",
    "\"\"\""
   ]
  },
  {
   "cell_type": "code",
   "execution_count": 41,
   "id": "7dc76a35-51f3-4304-beb1-6e5ab06096fe",
   "metadata": {},
   "outputs": [],
   "source": [
    "def extract_features(paper: dict) -> dict:\n",
    "\n",
    "    prompt = f\"\"\"\n",
    "    Your task is to answer in a consistent style. Please perform the following actions: \n",
    "    1 - Read the example below, understand what Patrick needs and how the research assistant extracts information from the sample paper according to \\\n",
    "    Patrick's requirements.\n",
    "    2 - You will be provided with a new paper. Summarize the new paper you receive and give your answer in the same way as the research assistant.\n",
    "    You just need to return the final result of action 2, and make it as JSON format.\n",
    "\n",
    "    Here is the example: \\n\"\n",
    "    f\"{EXAMPLE_PROMPT}\\n\"\n",
    "    Here is the new paper, please extract the information like the research assistant: \\n\"\n",
    "    f\"{paper}\\n\"\n",
    "    \"Keep in mind that output format is JSON\"\n",
    "    \"\"\"\n",
    "\n",
    "    response = get_completion(prompt, 0.3)\n",
    "    \n",
    "    if response.strip().startswith(\"```\"):\n",
    "        lines = response.splitlines()\n",
    "        if lines and lines[0].startswith(\"```\"):\n",
    "            lines = lines[1:]\n",
    "        if lines and lines[-1].startswith(\"```\"):\n",
    "            lines = lines[:-1]\n",
    "        response = \"\\n\".join(lines)\n",
    "    response = response.strip()\n",
    "    #print(response)\n",
    "    \n",
    "    try:\n",
    "        data = json.loads(response)\n",
    "    except json.JSONDecodeError:\n",
    "        raise ValueError(f\"Can't make it as JSON file: {response}\")\n",
    "\n",
    "    return data"
   ]
  },
  {
   "cell_type": "code",
   "execution_count": 24,
   "id": "9f17760d-6fa8-42c4-b0d6-cdc8482fc923",
   "metadata": {},
   "outputs": [],
   "source": [
    "def extract_knowledge(literature: dict):\n",
    "    results = []\n",
    "\n",
    "    for pid, sections in literature.items():\n",
    "        features = extract_features(sections)\n",
    "        features[\"id\"] = pid\n",
    "        results.append(features)\n",
    "\n",
    "    df = pd.DataFrame(results)\n",
    "    df = df[[\"id\", \"method\", \"focal_scale\", \"geographic_area\", \"factors\", \"time_frame\", \"gender\", \"migration_type\", \"sample_size\", \"focused_countries\"]]\n",
    "\n",
    "    output_path = \"extracted_knowledge.csv\"\n",
    "    df.to_csv(output_path, index=False)"
   ]
  },
  {
   "cell_type": "code",
   "execution_count": 46,
   "id": "75f0b91b-d24d-4cd6-875d-31b6e368b5e7",
   "metadata": {},
   "outputs": [],
   "source": [
    "if __name__ == \"__main__\":\n",
    "    extract_knowledge(literature)"
   ]
  },
  {
   "cell_type": "code",
   "execution_count": null,
   "id": "ae472592-92ed-4d78-a625-a03d104fccf4",
   "metadata": {},
   "outputs": [],
   "source": []
  }
 ],
 "metadata": {
  "kernelspec": {
   "display_name": "myGeoKG",
   "language": "python",
   "name": "mygeokg"
  },
  "language_info": {
   "codemirror_mode": {
    "name": "ipython",
    "version": 3
   },
   "file_extension": ".py",
   "mimetype": "text/x-python",
   "name": "python",
   "nbconvert_exporter": "python",
   "pygments_lexer": "ipython3",
   "version": "3.10.16"
  }
 },
 "nbformat": 4,
 "nbformat_minor": 5
}
